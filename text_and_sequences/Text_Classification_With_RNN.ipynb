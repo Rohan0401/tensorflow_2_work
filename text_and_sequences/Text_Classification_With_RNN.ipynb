{
 "cells": [
  {
   "cell_type": "code",
   "execution_count": 1,
   "metadata": {},
   "outputs": [],
   "source": [
    "from __future__ import absolute_import, division, print_function\n",
    "\n",
    "#!pip install -q tensorflow-gpu==2.0.0-alpha0\n",
    "import tensorflow_datasets as tfds\n",
    "import tensorflow as tf"
   ]
  },
  {
   "cell_type": "code",
   "execution_count": 2,
   "metadata": {},
   "outputs": [],
   "source": [
    "import matplotlib.pyplot as plt\n",
    "\n",
    "\n",
    "def plot_graphs(history, string):\n",
    "  plt.plot(history.history[string])\n",
    "  plt.plot(history.history['val_'+string])\n",
    "  plt.xlabel(\"Epochs\")\n",
    "  plt.ylabel(string)\n",
    "  plt.legend([string, 'val_'+string])\n",
    "  plt.show()"
   ]
  },
  {
   "cell_type": "code",
   "execution_count": 3,
   "metadata": {},
   "outputs": [],
   "source": [
    "dataset, info = tfds.load('imdb_reviews/subwords8k', with_info=True, \n",
    "                          as_supervised=True)\n",
    "train_dataset, test_dataset = dataset['train'], dataset['test']"
   ]
  },
  {
   "cell_type": "code",
   "execution_count": 4,
   "metadata": {},
   "outputs": [],
   "source": [
    "tokenizer = info.features['text'].encoder"
   ]
  },
  {
   "cell_type": "code",
   "execution_count": 5,
   "metadata": {},
   "outputs": [
    {
     "name": "stdout",
     "output_type": "stream",
     "text": [
      "Vovaulary size : 8185\n"
     ]
    }
   ],
   "source": [
    "print(\"Vovaulary size : {}\".format(tokenizer.vocab_size))"
   ]
  },
  {
   "cell_type": "code",
   "execution_count": 6,
   "metadata": {},
   "outputs": [],
   "source": [
    "sample_string = 'TensorFlow is cool.'"
   ]
  },
  {
   "cell_type": "code",
   "execution_count": 7,
   "metadata": {},
   "outputs": [
    {
     "name": "stdout",
     "output_type": "stream",
     "text": [
      "Tokenized string is [6307, 2327, 4043, 4265, 9, 2724, 7975]\n"
     ]
    }
   ],
   "source": [
    "tokenized_string = tokenizer.encode(sample_string)\n",
    "print(\"Tokenized string is {}\".format(tokenized_string))"
   ]
  },
  {
   "cell_type": "code",
   "execution_count": 8,
   "metadata": {},
   "outputs": [
    {
     "name": "stdout",
     "output_type": "stream",
     "text": [
      "The original string is: TensorFlow is cool.\n"
     ]
    }
   ],
   "source": [
    "original_string = tokenizer.decode(tokenized_string)\n",
    "print(\"The original string is: {}\".format(original_string))"
   ]
  },
  {
   "cell_type": "code",
   "execution_count": 9,
   "metadata": {},
   "outputs": [],
   "source": [
    "assert original_string == sample_string"
   ]
  },
  {
   "cell_type": "code",
   "execution_count": 10,
   "metadata": {},
   "outputs": [
    {
     "name": "stdout",
     "output_type": "stream",
     "text": [
      "6307 -------------> Ten\n",
      "2327 -------------> sor\n",
      "4043 -------------> Fl\n",
      "4265 -------------> ow \n",
      "9 -------------> is \n",
      "2724 -------------> cool\n",
      "7975 -------------> .\n"
     ]
    }
   ],
   "source": [
    "for ts in tokenized_string:\n",
    "    print(\"{} -------------> {}\".format(ts, tokenizer.decode([ts])))"
   ]
  },
  {
   "cell_type": "code",
   "execution_count": 11,
   "metadata": {},
   "outputs": [],
   "source": [
    "BUFFER_SIZE = 10000\n",
    "BATCH_SIZE = 64"
   ]
  },
  {
   "cell_type": "code",
   "execution_count": null,
   "metadata": {},
   "outputs": [],
   "source": []
  },
  {
   "cell_type": "code",
   "execution_count": 12,
   "metadata": {},
   "outputs": [],
   "source": [
    "\n",
    "train_dataset = train_dataset.padded_batch(BATCH_SIZE,(tf.TensorShape([None]), tf.TensorShape([])))\n",
    "\n",
    "test_dataset = test_dataset.padded_batch(BATCH_SIZE, (tf.TensorShape([None]), tf.TensorShape([])))"
   ]
  },
  {
   "cell_type": "code",
   "execution_count": 13,
   "metadata": {},
   "outputs": [
    {
     "name": "stderr",
     "output_type": "stream",
     "text": [
      "WARNING: Logging before flag parsing goes to stderr.\n",
      "W0318 09:33:35.824431 140216000464704 tf_logging.py:161] <tensorflow.python.keras.layers.recurrent.UnifiedLSTM object at 0x7f86145189b0>: Note that this layer is not optimized for performance. Please use tf.keras.layers.CuDNNLSTM for better performance on GPU.\n",
      "W0318 09:33:35.882182 140216000464704 tf_logging.py:161] <tensorflow.python.keras.layers.recurrent.UnifiedLSTM object at 0x7f861a9b3f98>: Note that this layer is not optimized for performance. Please use tf.keras.layers.CuDNNLSTM for better performance on GPU.\n"
     ]
    }
   ],
   "source": [
    "model = tf.keras.Sequential([\n",
    "    tf.keras.layers.Embedding(tokenizer.vocab_size, 64),\n",
    "    tf.keras.layers.Bidirectional(tf.keras.layers.LSTM(64)),\n",
    "    tf.keras.layers.Dense(64, activation='relu'),\n",
    "    tf.keras.layers.Dense(1, activation='sigmoid')\n",
    "])"
   ]
  },
  {
   "cell_type": "code",
   "execution_count": 14,
   "metadata": {},
   "outputs": [],
   "source": [
    "model.compile(loss='binary_crossentropy',\n",
    "              optimizer='adam',\n",
    "              metrics=['accuracy'])"
   ]
  },
  {
   "cell_type": "code",
   "execution_count": 15,
   "metadata": {},
   "outputs": [
    {
     "name": "stdout",
     "output_type": "stream",
     "text": [
      "Epoch 1/10\n",
      "391/391 [==============================] - 72s 185ms/step - loss: 0.6073 - accuracy: 0.6622 - val_loss: 0.0000e+00 - val_accuracy: 0.0000e+00\n",
      "Epoch 2/10\n",
      "391/391 [==============================] - 70s 180ms/step - loss: 0.5936 - accuracy: 0.6856 - val_loss: 0.5891 - val_accuracy: 0.7034\n",
      "Epoch 3/10\n",
      "391/391 [==============================] - 71s 181ms/step - loss: 0.4814 - accuracy: 0.7721 - val_loss: 0.4895 - val_accuracy: 0.7856\n",
      "Epoch 4/10\n",
      "391/391 [==============================] - 70s 178ms/step - loss: 0.3330 - accuracy: 0.8628 - val_loss: 0.3760 - val_accuracy: 0.8346\n",
      "Epoch 5/10\n",
      "391/391 [==============================] - 73s 187ms/step - loss: 0.2563 - accuracy: 0.9018 - val_loss: 0.3487 - val_accuracy: 0.8597\n",
      "Epoch 6/10\n",
      "391/391 [==============================] - 71s 182ms/step - loss: 0.2066 - accuracy: 0.9249 - val_loss: 0.3456 - val_accuracy: 0.8621\n",
      "Epoch 7/10\n",
      "391/391 [==============================] - 69s 177ms/step - loss: 0.1871 - accuracy: 0.9317 - val_loss: 0.3709 - val_accuracy: 0.8597\n",
      "Epoch 8/10\n",
      "391/391 [==============================] - 68s 175ms/step - loss: 0.1607 - accuracy: 0.9434 - val_loss: 0.4327 - val_accuracy: 0.8324\n",
      "Epoch 9/10\n",
      "391/391 [==============================] - 67s 172ms/step - loss: 0.1296 - accuracy: 0.9580 - val_loss: 0.4423 - val_accuracy: 0.8478\n",
      "Epoch 10/10\n",
      "391/391 [==============================] - 67s 172ms/step - loss: 0.1035 - accuracy: 0.9677 - val_loss: 0.4602 - val_accuracy: 0.8537\n"
     ]
    }
   ],
   "source": [
    "history = model.fit(train_dataset, epochs=10, \n",
    "                    validation_data=test_dataset)"
   ]
  },
  {
   "cell_type": "code",
   "execution_count": 16,
   "metadata": {},
   "outputs": [
    {
     "name": "stdout",
     "output_type": "stream",
     "text": [
      "    391/Unknown - 20s 52ms/step - loss: 0.4602 - accuracy: 0.8537Test Loss: 0.4602208761569789\n",
      "Test Accuracy: 0.8537200093269348\n"
     ]
    }
   ],
   "source": [
    "test_loss, test_acc = model.evaluate(test_dataset)\n",
    "\n",
    "print('Test Loss: {}'.format(test_loss))\n",
    "print('Test Accuracy: {}'.format(test_acc))"
   ]
  },
  {
   "cell_type": "code",
   "execution_count": 17,
   "metadata": {},
   "outputs": [],
   "source": [
    "def pad_to_size(vec, size):\n",
    "    zeros = [0]*(size - len(vec))\n",
    "    vec.extend(zeros)\n",
    "    return vec"
   ]
  },
  {
   "cell_type": "code",
   "execution_count": 18,
   "metadata": {},
   "outputs": [
    {
     "ename": "SyntaxError",
     "evalue": "unexpected EOF while parsing (<ipython-input-18-ee2dde63d1c0>, line 2)",
     "output_type": "error",
     "traceback": [
      "\u001b[0;36m  File \u001b[0;32m\"<ipython-input-18-ee2dde63d1c0>\"\u001b[0;36m, line \u001b[0;32m2\u001b[0m\n\u001b[0;31m    \u001b[0m\n\u001b[0m    ^\u001b[0m\n\u001b[0;31mSyntaxError\u001b[0m\u001b[0;31m:\u001b[0m unexpected EOF while parsing\n"
     ]
    }
   ],
   "source": [
    "def sample_predict(sentance, pad):\n",
    "    "
   ]
  }
 ],
 "metadata": {
  "kernelspec": {
   "display_name": "Python 3",
   "language": "python",
   "name": "python3"
  },
  "language_info": {
   "codemirror_mode": {
    "name": "ipython",
    "version": 3
   },
   "file_extension": ".py",
   "mimetype": "text/x-python",
   "name": "python",
   "nbconvert_exporter": "python",
   "pygments_lexer": "ipython3",
   "version": "3.6.8"
  }
 },
 "nbformat": 4,
 "nbformat_minor": 2
}
