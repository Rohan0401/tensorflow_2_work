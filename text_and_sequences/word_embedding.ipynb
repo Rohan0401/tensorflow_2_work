{
 "cells": [
  {
   "cell_type": "code",
   "execution_count": 1,
   "metadata": {},
   "outputs": [],
   "source": [
    "from __future__ import absolute_import, division, print_function\n",
    "\n",
    "#!pip install -q tensorflow==2.0.0-alpha0\n",
    "import tensorflow as tf\n",
    "\n",
    "from tensorflow import keras\n",
    "from tensorflow.keras import layers"
   ]
  },
  {
   "cell_type": "code",
   "execution_count": 2,
   "metadata": {},
   "outputs": [],
   "source": [
    "\n",
    "# The Embedding layer takes at least two arguments:\n",
    "# the number of possible words in the vocabulary, here 1000 (1 + maximum word index),\n",
    "# and the dimensionality of the embeddings, here 32.\n",
    "embedding_layer = layers.Embedding(1000,32)"
   ]
  },
  {
   "cell_type": "code",
   "execution_count": 3,
   "metadata": {},
   "outputs": [],
   "source": [
    "vocab_size = 10000\n",
    "imdb = keras.datasets.imdb\n",
    "(train_data, train_labels), (test_data, test_labels) = imdb.load_data(num_words=vocab_size)"
   ]
  },
  {
   "cell_type": "code",
   "execution_count": 4,
   "metadata": {},
   "outputs": [
    {
     "name": "stdout",
     "output_type": "stream",
     "text": [
      "[1, 14, 22, 16, 43, 530, 973, 1622, 1385, 65, 458, 4468, 66, 3941, 4, 173, 36, 256, 5, 25, 100, 43, 838, 112, 50, 670, 2, 9, 35, 480, 284, 5, 150, 4, 172, 112, 167, 2, 336, 385, 39, 4, 172, 4536, 1111, 17, 546, 38, 13, 447, 4, 192, 50, 16, 6, 147, 2025, 19, 14, 22, 4, 1920, 4613, 469, 4, 22, 71, 87, 12, 16, 43, 530, 38, 76, 15, 13, 1247, 4, 22, 17, 515, 17, 12, 16, 626, 18, 2, 5, 62, 386, 12, 8, 316, 8, 106, 5, 4, 2223, 5244, 16, 480, 66, 3785, 33, 4, 130, 12, 16, 38, 619, 5, 25, 124, 51, 36, 135, 48, 25, 1415, 33, 6, 22, 12, 215, 28, 77, 52, 5, 14, 407, 16, 82, 2, 8, 4, 107, 117, 5952, 15, 256, 4, 2, 7, 3766, 5, 723, 36, 71, 43, 530, 476, 26, 400, 317, 46, 7, 4, 2, 1029, 13, 104, 88, 4, 381, 15, 297, 98, 32, 2071, 56, 26, 141, 6, 194, 7486, 18, 4, 226, 22, 21, 134, 476, 26, 480, 5, 144, 30, 5535, 18, 51, 36, 28, 224, 92, 25, 104, 4, 226, 65, 16, 38, 1334, 88, 12, 16, 283, 5, 16, 4472, 113, 103, 32, 15, 16, 5345, 19, 178, 32]\n"
     ]
    }
   ],
   "source": [
    "print(train_data[0])"
   ]
  },
  {
   "cell_type": "code",
   "execution_count": 7,
   "metadata": {},
   "outputs": [],
   "source": [
    "# A dictionary mapping words to an integer index\n",
    "word_index = imdb.get_word_index()\n"
   ]
  },
  {
   "cell_type": "code",
   "execution_count": 9,
   "metadata": {},
   "outputs": [
    {
     "data": {
      "text/plain": [
       "\"<START> this film was just brilliant casting location scenery story direction everyone's really suited the part they played and you could just imagine being there robert <UNK> is an amazing actor and now the same being director <UNK> father came from the same scottish island as myself so i loved the fact there was a real connection with this film the witty remarks throughout the film were great it was just brilliant so much that i bought the film as soon as it was released for <UNK> and would recommend it to everyone to watch and the fly fishing was amazing really cried at the end it was so sad and you know what they say if you cry at a film it must have been good and this definitely was also <UNK> to the two little boy's that played the <UNK> of norman and paul they were just brilliant children are often left out of the <UNK> list i think because the stars that play them all grown up are such a big profile for the whole film but these children are amazing and should be praised for what they have done don't you think the whole story was so lovely because it was true and was someone's life after all that was shared with us all\""
      ]
     },
     "execution_count": 9,
     "metadata": {},
     "output_type": "execute_result"
    }
   ],
   "source": [
    "# The first indices are reserved\n",
    "word_index = {k:(v+3) for k,v in word_index.items()} \n",
    "word_index[\"<PAD>\"] = 0\n",
    "word_index[\"<START>\"] = 1\n",
    "word_index[\"<UNK>\"] = 2  # unknown\n",
    "word_index[\"<UNUSED>\"] = 3\n",
    "\n",
    "reverse_word_index = dict([(value, key) for (key, value) in word_index.items()])\n",
    "\n",
    "def decode_review(text):\n",
    "    return ' '.join([reverse_word_index.get(i, '?') for i in text])\n",
    "  \n",
    "decode_review(train_data[0])"
   ]
  },
  {
   "cell_type": "code",
   "execution_count": 10,
   "metadata": {},
   "outputs": [],
   "source": [
    "maxlen = 500\n",
    "\n",
    "train_data = keras.preprocessing.sequence.pad_sequences(train_data, \n",
    "                                                       value=word_index['<PAD>'],\n",
    "                                                       padding='post',\n",
    "                                                       maxlen=maxlen)\n",
    "\n",
    "test_data = keras.preprocessing.sequence.pad_sequences(test_data, \n",
    "                                                      value=word_index['<PAD>'],\n",
    "                                                      padding='post',\n",
    "                                                      maxlen=maxlen)"
   ]
  },
  {
   "cell_type": "code",
   "execution_count": 11,
   "metadata": {},
   "outputs": [
    {
     "name": "stdout",
     "output_type": "stream",
     "text": [
      "[   1   14   22   16   43  530  973 1622 1385   65  458 4468   66 3941\n",
      "    4  173   36  256    5   25  100   43  838  112   50  670    2    9\n",
      "   35  480  284    5  150    4  172  112  167    2  336  385   39    4\n",
      "  172 4536 1111   17  546   38   13  447    4  192   50   16    6  147\n",
      " 2025   19   14   22    4 1920 4613  469    4   22   71   87   12   16\n",
      "   43  530   38   76   15   13 1247    4   22   17  515   17   12   16\n",
      "  626   18    2    5   62  386   12    8  316    8  106    5    4 2223\n",
      " 5244   16  480   66 3785   33    4  130   12   16   38  619    5   25\n",
      "  124   51   36  135   48   25 1415   33    6   22   12  215   28   77\n",
      "   52    5   14  407   16   82    2    8    4  107  117 5952   15  256\n",
      "    4    2    7 3766    5  723   36   71   43  530  476   26  400  317\n",
      "   46    7    4    2 1029   13  104   88    4  381   15  297   98   32\n",
      " 2071   56   26  141    6  194 7486   18    4  226   22   21  134  476\n",
      "   26  480    5  144   30 5535   18   51   36   28  224   92   25  104\n",
      "    4  226   65   16   38 1334   88   12   16  283    5   16 4472  113\n",
      "  103   32   15   16 5345   19  178   32    0    0    0    0    0    0\n",
      "    0    0    0    0    0    0    0    0    0    0    0    0    0    0\n",
      "    0    0    0    0    0    0    0    0    0    0    0    0    0    0\n",
      "    0    0    0    0    0    0    0    0    0    0    0    0    0    0\n",
      "    0    0    0    0    0    0    0    0    0    0    0    0    0    0\n",
      "    0    0    0    0    0    0    0    0    0    0    0    0    0    0\n",
      "    0    0    0    0    0    0    0    0    0    0    0    0    0    0\n",
      "    0    0    0    0    0    0    0    0    0    0    0    0    0    0\n",
      "    0    0    0    0    0    0    0    0    0    0    0    0    0    0\n",
      "    0    0    0    0    0    0    0    0    0    0    0    0    0    0\n",
      "    0    0    0    0    0    0    0    0    0    0    0    0    0    0\n",
      "    0    0    0    0    0    0    0    0    0    0    0    0    0    0\n",
      "    0    0    0    0    0    0    0    0    0    0    0    0    0    0\n",
      "    0    0    0    0    0    0    0    0    0    0    0    0    0    0\n",
      "    0    0    0    0    0    0    0    0    0    0    0    0    0    0\n",
      "    0    0    0    0    0    0    0    0    0    0    0    0    0    0\n",
      "    0    0    0    0    0    0    0    0    0    0    0    0    0    0\n",
      "    0    0    0    0    0    0    0    0    0    0    0    0    0    0\n",
      "    0    0    0    0    0    0    0    0    0    0    0    0    0    0\n",
      "    0    0    0    0    0    0    0    0    0    0    0    0    0    0\n",
      "    0    0    0    0    0    0    0    0    0    0]\n"
     ]
    }
   ],
   "source": [
    "print(train_data[0])"
   ]
  },
  {
   "cell_type": "code",
   "execution_count": 12,
   "metadata": {},
   "outputs": [
    {
     "name": "stdout",
     "output_type": "stream",
     "text": [
      "Model: \"sequential\"\n",
      "_________________________________________________________________\n",
      "Layer (type)                 Output Shape              Param #   \n",
      "=================================================================\n",
      "embedding_1 (Embedding)      (None, 500, 16)           160000    \n",
      "_________________________________________________________________\n",
      "global_average_pooling1d (Gl (None, 16)                0         \n",
      "_________________________________________________________________\n",
      "dense (Dense)                (None, 16)                272       \n",
      "_________________________________________________________________\n",
      "dense_1 (Dense)              (None, 1)                 17        \n",
      "=================================================================\n",
      "Total params: 160,289\n",
      "Trainable params: 160,289\n",
      "Non-trainable params: 0\n",
      "_________________________________________________________________\n"
     ]
    }
   ],
   "source": [
    "embedding_dim = 16\n",
    "model = keras.Sequential([\n",
    "    layers.Embedding(vocab_size, embedding_dim, input_length=maxlen),\n",
    "    layers.GlobalAveragePooling1D(),\n",
    "    layers.Dense(16, activation='relu'),\n",
    "    layers.Dense(1, activation='sigmoid')\n",
    "])\n",
    "\n",
    "model.summary()"
   ]
  },
  {
   "cell_type": "code",
   "execution_count": 13,
   "metadata": {},
   "outputs": [],
   "source": [
    "model.compile(optimizer='adam',\n",
    "              loss='binary_crossentropy',\n",
    "              metrics=['accuracy'])\n"
   ]
  },
  {
   "cell_type": "code",
   "execution_count": 14,
   "metadata": {},
   "outputs": [
    {
     "name": "stdout",
     "output_type": "stream",
     "text": [
      "Train on 20000 samples, validate on 5000 samples\n",
      "Epoch 1/30\n",
      "20000/20000 [==============================] - 1s 60us/sample - loss: 0.6923 - accuracy: 0.5372 - val_loss: 0.6907 - val_accuracy: 0.6430\n",
      "Epoch 2/30\n",
      "20000/20000 [==============================] - 1s 49us/sample - loss: 0.6875 - accuracy: 0.6213 - val_loss: 0.6828 - val_accuracy: 0.6086\n",
      "Epoch 3/30\n",
      "20000/20000 [==============================] - 1s 49us/sample - loss: 0.6762 - accuracy: 0.7178 - val_loss: 0.6666 - val_accuracy: 0.7588\n",
      "Epoch 4/30\n",
      "20000/20000 [==============================] - 1s 49us/sample - loss: 0.6547 - accuracy: 0.7674 - val_loss: 0.6388 - val_accuracy: 0.7674\n",
      "Epoch 5/30\n",
      "20000/20000 [==============================] - 1s 50us/sample - loss: 0.6215 - accuracy: 0.7933 - val_loss: 0.6015 - val_accuracy: 0.7870\n",
      "Epoch 6/30\n",
      "20000/20000 [==============================] - 1s 49us/sample - loss: 0.5787 - accuracy: 0.8103 - val_loss: 0.5574 - val_accuracy: 0.8042\n",
      "Epoch 7/30\n",
      "20000/20000 [==============================] - 1s 52us/sample - loss: 0.5314 - accuracy: 0.8238 - val_loss: 0.5135 - val_accuracy: 0.8188\n",
      "Epoch 8/30\n",
      "20000/20000 [==============================] - 1s 52us/sample - loss: 0.4834 - accuracy: 0.8450 - val_loss: 0.4721 - val_accuracy: 0.8316\n",
      "Epoch 9/30\n",
      "20000/20000 [==============================] - 1s 52us/sample - loss: 0.4400 - accuracy: 0.8590 - val_loss: 0.4360 - val_accuracy: 0.8486\n",
      "Epoch 10/30\n",
      "20000/20000 [==============================] - 1s 53us/sample - loss: 0.4020 - accuracy: 0.8719 - val_loss: 0.4071 - val_accuracy: 0.8590\n",
      "Epoch 11/30\n",
      "20000/20000 [==============================] - 1s 50us/sample - loss: 0.3705 - accuracy: 0.8784 - val_loss: 0.3834 - val_accuracy: 0.8646\n",
      "Epoch 12/30\n",
      "20000/20000 [==============================] - 1s 48us/sample - loss: 0.3446 - accuracy: 0.8855 - val_loss: 0.3655 - val_accuracy: 0.8666\n",
      "Epoch 13/30\n",
      "20000/20000 [==============================] - 1s 49us/sample - loss: 0.3226 - accuracy: 0.8918 - val_loss: 0.3504 - val_accuracy: 0.8712\n",
      "Epoch 14/30\n",
      "20000/20000 [==============================] - 1s 52us/sample - loss: 0.3037 - accuracy: 0.8979 - val_loss: 0.3383 - val_accuracy: 0.8724\n",
      "Epoch 15/30\n",
      "20000/20000 [==============================] - 1s 52us/sample - loss: 0.2889 - accuracy: 0.9025 - val_loss: 0.3287 - val_accuracy: 0.8770\n",
      "Epoch 16/30\n",
      "20000/20000 [==============================] - 1s 51us/sample - loss: 0.2746 - accuracy: 0.9057 - val_loss: 0.3268 - val_accuracy: 0.8716\n",
      "Epoch 17/30\n",
      "20000/20000 [==============================] - 1s 51us/sample - loss: 0.2623 - accuracy: 0.9107 - val_loss: 0.3144 - val_accuracy: 0.8806\n",
      "Epoch 18/30\n",
      "20000/20000 [==============================] - 1s 51us/sample - loss: 0.2504 - accuracy: 0.9144 - val_loss: 0.3077 - val_accuracy: 0.8826\n",
      "Epoch 19/30\n",
      "20000/20000 [==============================] - 1s 49us/sample - loss: 0.2402 - accuracy: 0.9173 - val_loss: 0.3031 - val_accuracy: 0.8832\n",
      "Epoch 20/30\n",
      "20000/20000 [==============================] - 1s 49us/sample - loss: 0.2308 - accuracy: 0.9201 - val_loss: 0.2992 - val_accuracy: 0.8848\n",
      "Epoch 21/30\n",
      "20000/20000 [==============================] - 1s 49us/sample - loss: 0.2228 - accuracy: 0.9233 - val_loss: 0.2953 - val_accuracy: 0.8868\n",
      "Epoch 22/30\n",
      "20000/20000 [==============================] - 1s 49us/sample - loss: 0.2163 - accuracy: 0.9252 - val_loss: 0.2924 - val_accuracy: 0.8884\n",
      "Epoch 23/30\n",
      "20000/20000 [==============================] - 1s 49us/sample - loss: 0.2080 - accuracy: 0.9283 - val_loss: 0.2910 - val_accuracy: 0.8884\n",
      "Epoch 24/30\n",
      "20000/20000 [==============================] - 1s 49us/sample - loss: 0.2009 - accuracy: 0.9307 - val_loss: 0.2880 - val_accuracy: 0.8900\n",
      "Epoch 25/30\n",
      "20000/20000 [==============================] - 1s 49us/sample - loss: 0.1943 - accuracy: 0.9327 - val_loss: 0.2874 - val_accuracy: 0.8898\n",
      "Epoch 26/30\n",
      "20000/20000 [==============================] - 1s 49us/sample - loss: 0.1890 - accuracy: 0.9344 - val_loss: 0.2857 - val_accuracy: 0.8896\n",
      "Epoch 27/30\n",
      "20000/20000 [==============================] - 1s 49us/sample - loss: 0.1832 - accuracy: 0.9380 - val_loss: 0.2852 - val_accuracy: 0.8912\n",
      "Epoch 28/30\n",
      "20000/20000 [==============================] - 1s 50us/sample - loss: 0.1774 - accuracy: 0.9390 - val_loss: 0.2831 - val_accuracy: 0.8908\n",
      "Epoch 29/30\n",
      "20000/20000 [==============================] - 1s 51us/sample - loss: 0.1718 - accuracy: 0.9424 - val_loss: 0.2823 - val_accuracy: 0.8928\n",
      "Epoch 30/30\n",
      "20000/20000 [==============================] - 1s 49us/sample - loss: 0.1670 - accuracy: 0.9434 - val_loss: 0.2842 - val_accuracy: 0.8910\n"
     ]
    }
   ],
   "source": [
    "\n",
    "history = model.fit(\n",
    "    train_data,\n",
    "    train_labels,\n",
    "    epochs=30,\n",
    "    batch_size=512,\n",
    "    validation_split=0.2)"
   ]
  },
  {
   "cell_type": "code",
   "execution_count": 19,
   "metadata": {},
   "outputs": [
    {
     "data": {
      "image/png": "[encoded data removed]",
      "text/plain": [
       "<Figure size 432x288 with 1 Axes>"
      ]
     },
     "metadata": {
      "needs_background": "light"
     },
     "output_type": "display_data"
    },
    {
     "data": {
      "text/plain": [
       "<Figure size 1152x648 with 0 Axes>"
      ]
     },
     "metadata": {},
     "output_type": "display_data"
    }
   ],
   "source": [
    "import matplotlib.pyplot as plt\n",
    "%matplotlib inline\n",
    "acc = history.history['accuracy']\n",
    "val_acc = history.history['val_accuracy']\n",
    "\n",
    "epochs = range(1, len(acc) + 1)\n",
    "\n",
    "plt.plot(epochs, acc, 'bo', label='Training acc')\n",
    "plt.plot(epochs, val_acc, 'b', label='Validation acc')\n",
    "plt.title('Training and validation accuracy')\n",
    "plt.xlabel('Epochs')\n",
    "plt.ylabel('Accuracy')\n",
    "plt.legend(loc='lower right')\n",
    "plt.figure(figsize=(16,9))\n",
    "\n",
    "plt.show()"
   ]
  },
  {
   "cell_type": "code",
   "execution_count": 20,
   "metadata": {},
   "outputs": [
    {
     "name": "stdout",
     "output_type": "stream",
     "text": [
      "(10000, 16)\n"
     ]
    }
   ],
   "source": [
    "e = model.layers[0]\n",
    "weights = e.get_weights()[0]\n",
    "print(weights.shape)"
   ]
  },
  {
   "cell_type": "code",
   "execution_count": 21,
   "metadata": {},
   "outputs": [],
   "source": [
    "out_v = open('vecs.tsv', 'w')\n",
    "out_m = open('meta.tsv', 'w')\n",
    "for word_num in range(vocab_size):\n",
    "  word = reverse_word_index[word_num]\n",
    "  embeddings = weights[word_num]\n",
    "  out_m.write(word + \"\\n\")\n",
    "  out_v.write('\\t'.join([str(x) for x in embeddings]) + \"\\n\")\n",
    "out_v.close()\n",
    "out_m.close()"
   ]
  },
  {
   "cell_type": "markdown",
   "metadata": {},
   "source": [
    "More information about the proejct \n",
    "http://projector.tensorflow.org/"
   ]
  },
  {
   "cell_type": "code",
   "execution_count": null,
   "metadata": {},
   "outputs": [],
   "source": []
  }
 ],
 "metadata": {
  "kernelspec": {
   "display_name": "Python 3",
   "language": "python",
   "name": "python3"
  },
  "language_info": {
   "codemirror_mode": {
    "name": "ipython",
    "version": 3
   },
   "file_extension": ".py",
   "mimetype": "text/x-python",
   "name": "python",
   "nbconvert_exporter": "python",
   "pygments_lexer": "ipython3",
   "version": "3.6.8"
  }
 },
 "nbformat": 4,
 "nbformat_minor": 2
}
