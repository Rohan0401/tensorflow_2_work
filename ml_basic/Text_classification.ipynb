{
 "cells": [
  {
   "cell_type": "code",
   "execution_count": 1,
   "metadata": {},
   "outputs": [
    {
     "name": "stdout",
     "output_type": "stream",
     "text": [
      "2.0.0-alpha0\n"
     ]
    }
   ],
   "source": [
    "from __future__ import absolute_import, division, print_function\n",
    "\n",
    "!pip install -q tensorflow==2.0.0-alpha0\n",
    "import tensorflow as tf\n",
    "from tensorflow import keras\n",
    "\n",
    "import numpy as np\n",
    "\n",
    "print(tf.__version__)"
   ]
  },
  {
   "cell_type": "code",
   "execution_count": 2,
   "metadata": {},
   "outputs": [
    {
     "name": "stdout",
     "output_type": "stream",
     "text": [
      "Downloading data from https://storage.googleapis.com/tensorflow/tf-keras-datasets/imdb.npz\n",
      "17465344/17464789 [==============================] - 3s 0us/step\n"
     ]
    }
   ],
   "source": [
    "imdb = keras.datasets.imdb\n",
    "(train_data, train_labels), (test_data, test_labels) = imdb.load_data(num_words=10000)"
   ]
  },
  {
   "cell_type": "code",
   "execution_count": 3,
   "metadata": {},
   "outputs": [
    {
     "name": "stdout",
     "output_type": "stream",
     "text": [
      "Training entries : 25000, labels : 25000\n"
     ]
    }
   ],
   "source": [
    "print(\"Training entries : {}, labels : {}\".format(len(train_data), len(train_labels)))"
   ]
  },
  {
   "cell_type": "code",
   "execution_count": 4,
   "metadata": {},
   "outputs": [
    {
     "name": "stdout",
     "output_type": "stream",
     "text": [
      "[1, 14, 22, 16, 43, 530, 973, 1622, 1385, 65, 458, 4468, 66, 3941, 4, 173, 36, 256, 5, 25, 100, 43, 838, 112, 50, 670, 2, 9, 35, 480, 284, 5, 150, 4, 172, 112, 167, 2, 336, 385, 39, 4, 172, 4536, 1111, 17, 546, 38, 13, 447, 4, 192, 50, 16, 6, 147, 2025, 19, 14, 22, 4, 1920, 4613, 469, 4, 22, 71, 87, 12, 16, 43, 530, 38, 76, 15, 13, 1247, 4, 22, 17, 515, 17, 12, 16, 626, 18, 2, 5, 62, 386, 12, 8, 316, 8, 106, 5, 4, 2223, 5244, 16, 480, 66, 3785, 33, 4, 130, 12, 16, 38, 619, 5, 25, 124, 51, 36, 135, 48, 25, 1415, 33, 6, 22, 12, 215, 28, 77, 52, 5, 14, 407, 16, 82, 2, 8, 4, 107, 117, 5952, 15, 256, 4, 2, 7, 3766, 5, 723, 36, 71, 43, 530, 476, 26, 400, 317, 46, 7, 4, 2, 1029, 13, 104, 88, 4, 381, 15, 297, 98, 32, 2071, 56, 26, 141, 6, 194, 7486, 18, 4, 226, 22, 21, 134, 476, 26, 480, 5, 144, 30, 5535, 18, 51, 36, 28, 224, 92, 25, 104, 4, 226, 65, 16, 38, 1334, 88, 12, 16, 283, 5, 16, 4472, 113, 103, 32, 15, 16, 5345, 19, 178, 32]\n"
     ]
    }
   ],
   "source": [
    "print(train_data[0])"
   ]
  },
  {
   "cell_type": "code",
   "execution_count": 5,
   "metadata": {},
   "outputs": [
    {
     "data": {
      "text/plain": [
       "(218, 189)"
      ]
     },
     "execution_count": 5,
     "metadata": {},
     "output_type": "execute_result"
    }
   ],
   "source": [
    "len(train_data[0]), len(train_data[1])"
   ]
  },
  {
   "cell_type": "code",
   "execution_count": 6,
   "metadata": {},
   "outputs": [
    {
     "name": "stdout",
     "output_type": "stream",
     "text": [
      "Downloading data from https://storage.googleapis.com/tensorflow/tf-keras-datasets/imdb_word_index.json\n",
      "1646592/1641221 [==============================] - 0s 0us/step\n"
     ]
    }
   ],
   "source": [
    "# A dict to map words to integer index\n",
    "word_index = imdb.get_word_index()\n"
   ]
  },
  {
   "cell_type": "code",
   "execution_count": 8,
   "metadata": {},
   "outputs": [],
   "source": [
    "# The first indices are reversed\n",
    "word_index = {k : (v+3) for k,v in word_index.items()}\n",
    "word_index['<PAD>'] = 0\n",
    "word_index['<START>'] = 1\n",
    "word_index['<UNK>'] = 2\n",
    "word_index['<UNUSED>'] = 3\n",
    "\n",
    "reversed_word_index = dict([(value, key) for (key, value) in word_index.items()])\n",
    "\n",
    "def decode_review(text):\n",
    "    return ' '.join([reversed_word_index.get(i, '?') for i in text])"
   ]
  },
  {
   "cell_type": "code",
   "execution_count": 9,
   "metadata": {},
   "outputs": [
    {
     "data": {
      "text/plain": [
       "\"<START> this film was just brilliant casting location scenery story direction everyone's really suited the part they played and you could just imagine being there robert <UNK> is an amazing actor and now the same being director <UNK> father came from the same scottish island as myself so i loved the fact there was a real connection with this film the witty remarks throughout the film were great it was just brilliant so much that i bought the film as soon as it was released for <UNK> and would recommend it to everyone to watch and the fly fishing was amazing really cried at the end it was so sad and you know what they say if you cry at a film it must have been good and this definitely was also <UNK> to the two little boy's that played the <UNK> of norman and paul they were just brilliant children are often left out of the <UNK> list i think because the stars that play them all grown up are such a big profile for the whole film but these children are amazing and should be praised for what they have done don't you think the whole story was so lovely because it was true and was someone's life after all that was shared with us all\""
      ]
     },
     "execution_count": 9,
     "metadata": {},
     "output_type": "execute_result"
    }
   ],
   "source": [
    "decode_review(train_data[0])"
   ]
  },
  {
   "cell_type": "code",
   "execution_count": 10,
   "metadata": {},
   "outputs": [],
   "source": [
    "train_data = keras.preprocessing.sequence.pad_sequences(train_data,\n",
    "                                                       value=word_index['<PAD>'],\n",
    "                                                       padding=\"post\",\n",
    "                                                       maxlen=256)\n",
    "\n",
    "\n",
    "test_data = keras.preprocessing.sequence.pad_sequences(test_data,\n",
    "                                                       value=word_index['<PAD>'],\n",
    "                                                       padding=\"post\",\n",
    "                                                       maxlen=256)\n"
   ]
  },
  {
   "cell_type": "code",
   "execution_count": 11,
   "metadata": {},
   "outputs": [
    {
     "data": {
      "text/plain": [
       "(256, 256)"
      ]
     },
     "execution_count": 11,
     "metadata": {},
     "output_type": "execute_result"
    }
   ],
   "source": [
    "len(train_data[0]), len(test_data[0])"
   ]
  },
  {
   "cell_type": "code",
   "execution_count": 12,
   "metadata": {},
   "outputs": [
    {
     "name": "stdout",
     "output_type": "stream",
     "text": [
      "[   1   14   22   16   43  530  973 1622 1385   65  458 4468   66 3941\n",
      "    4  173   36  256    5   25  100   43  838  112   50  670    2    9\n",
      "   35  480  284    5  150    4  172  112  167    2  336  385   39    4\n",
      "  172 4536 1111   17  546   38   13  447    4  192   50   16    6  147\n",
      " 2025   19   14   22    4 1920 4613  469    4   22   71   87   12   16\n",
      "   43  530   38   76   15   13 1247    4   22   17  515   17   12   16\n",
      "  626   18    2    5   62  386   12    8  316    8  106    5    4 2223\n",
      " 5244   16  480   66 3785   33    4  130   12   16   38  619    5   25\n",
      "  124   51   36  135   48   25 1415   33    6   22   12  215   28   77\n",
      "   52    5   14  407   16   82    2    8    4  107  117 5952   15  256\n",
      "    4    2    7 3766    5  723   36   71   43  530  476   26  400  317\n",
      "   46    7    4    2 1029   13  104   88    4  381   15  297   98   32\n",
      " 2071   56   26  141    6  194 7486   18    4  226   22   21  134  476\n",
      "   26  480    5  144   30 5535   18   51   36   28  224   92   25  104\n",
      "    4  226   65   16   38 1334   88   12   16  283    5   16 4472  113\n",
      "  103   32   15   16 5345   19  178   32    0    0    0    0    0    0\n",
      "    0    0    0    0    0    0    0    0    0    0    0    0    0    0\n",
      "    0    0    0    0    0    0    0    0    0    0    0    0    0    0\n",
      "    0    0    0    0]\n"
     ]
    }
   ],
   "source": [
    "print(train_data[0])"
   ]
  },
  {
   "cell_type": "code",
   "execution_count": 13,
   "metadata": {},
   "outputs": [],
   "source": [
    "# Input shape is the vocabulary count used for the movie review\n",
    "vocab_size = 10000\n",
    "\n",
    "model = keras.Sequential()\n"
   ]
  },
  {
   "cell_type": "code",
   "execution_count": 14,
   "metadata": {},
   "outputs": [
    {
     "name": "stdout",
     "output_type": "stream",
     "text": [
      "Model: \"sequential\"\n",
      "_________________________________________________________________\n",
      "Layer (type)                 Output Shape              Param #   \n",
      "=================================================================\n",
      "embedding (Embedding)        (None, None, 16)          160000    \n",
      "_________________________________________________________________\n",
      "global_average_pooling1d (Gl (None, 16)                0         \n",
      "_________________________________________________________________\n",
      "dense (Dense)                (None, 16)                272       \n",
      "_________________________________________________________________\n",
      "dense_1 (Dense)              (None, 1)                 17        \n",
      "=================================================================\n",
      "Total params: 160,289\n",
      "Trainable params: 160,289\n",
      "Non-trainable params: 0\n",
      "_________________________________________________________________\n"
     ]
    }
   ],
   "source": [
    "model.add(keras.layers.Embedding(vocab_size, 16))\n",
    "model.add(keras.layers.GlobalAveragePooling1D())\n",
    "model.add(keras.layers.Dense(16, activation='relu'))\n",
    "model.add(keras.layers.Dense(1,activation='sigmoid'))\n",
    "\n",
    "model.summary()"
   ]
  },
  {
   "cell_type": "code",
   "execution_count": 15,
   "metadata": {},
   "outputs": [],
   "source": [
    "model.compile(optimizer='adam',\n",
    "             loss='binary_crossentropy',\n",
    "             metrics=['accuracy'])"
   ]
  },
  {
   "cell_type": "code",
   "execution_count": 16,
   "metadata": {},
   "outputs": [],
   "source": [
    "x_val = train_data[:10000]\n",
    "partial_x_train = train_data[10000:]\n",
    "\n",
    "y_val = train_labels[:10000]\n",
    "partial_y_train = train_labels[10000:]"
   ]
  },
  {
   "cell_type": "code",
   "execution_count": 17,
   "metadata": {},
   "outputs": [
    {
     "name": "stdout",
     "output_type": "stream",
     "text": [
      "Train on 15000 samples, validate on 10000 samples\n",
      "Epoch 1/40\n",
      "15000/15000 [==============================] - 1s 50us/sample - loss: 0.6925 - accuracy: 0.5174 - val_loss: 0.6915 - val_accuracy: 0.5045\n",
      "Epoch 2/40\n",
      "15000/15000 [==============================] - 0s 31us/sample - loss: 0.6892 - accuracy: 0.5840 - val_loss: 0.6868 - val_accuracy: 0.6015\n",
      "Epoch 3/40\n",
      "15000/15000 [==============================] - 0s 31us/sample - loss: 0.6815 - accuracy: 0.6706 - val_loss: 0.6770 - val_accuracy: 0.7116\n",
      "Epoch 4/40\n",
      "15000/15000 [==============================] - 0s 33us/sample - loss: 0.6672 - accuracy: 0.7047 - val_loss: 0.6598 - val_accuracy: 0.7516\n",
      "Epoch 5/40\n",
      "15000/15000 [==============================] - 0s 33us/sample - loss: 0.6437 - accuracy: 0.7633 - val_loss: 0.6340 - val_accuracy: 0.7695\n",
      "Epoch 6/40\n",
      "15000/15000 [==============================] - 0s 32us/sample - loss: 0.6108 - accuracy: 0.7928 - val_loss: 0.6005 - val_accuracy: 0.7812\n",
      "Epoch 7/40\n",
      "15000/15000 [==============================] - 0s 31us/sample - loss: 0.5702 - accuracy: 0.8117 - val_loss: 0.5605 - val_accuracy: 0.8067\n",
      "Epoch 8/40\n",
      "15000/15000 [==============================] - 0s 31us/sample - loss: 0.5259 - accuracy: 0.8333 - val_loss: 0.5203 - val_accuracy: 0.8219\n",
      "Epoch 9/40\n",
      "15000/15000 [==============================] - 0s 31us/sample - loss: 0.4812 - accuracy: 0.8476 - val_loss: 0.4800 - val_accuracy: 0.8333\n",
      "Epoch 10/40\n",
      "15000/15000 [==============================] - 0s 31us/sample - loss: 0.4379 - accuracy: 0.8614 - val_loss: 0.4441 - val_accuracy: 0.8424\n",
      "Epoch 11/40\n",
      "15000/15000 [==============================] - 0s 33us/sample - loss: 0.3996 - accuracy: 0.8715 - val_loss: 0.4133 - val_accuracy: 0.8523\n",
      "Epoch 12/40\n",
      "15000/15000 [==============================] - 0s 31us/sample - loss: 0.3669 - accuracy: 0.8815 - val_loss: 0.3895 - val_accuracy: 0.8538\n",
      "Epoch 13/40\n",
      "15000/15000 [==============================] - 0s 31us/sample - loss: 0.3402 - accuracy: 0.8885 - val_loss: 0.3682 - val_accuracy: 0.8636\n",
      "Epoch 14/40\n",
      "15000/15000 [==============================] - 0s 31us/sample - loss: 0.3165 - accuracy: 0.8943 - val_loss: 0.3526 - val_accuracy: 0.8666\n",
      "Epoch 15/40\n",
      "15000/15000 [==============================] - 0s 31us/sample - loss: 0.2965 - accuracy: 0.8986 - val_loss: 0.3389 - val_accuracy: 0.8707\n",
      "Epoch 16/40\n",
      "15000/15000 [==============================] - 0s 31us/sample - loss: 0.2786 - accuracy: 0.9047 - val_loss: 0.3280 - val_accuracy: 0.8719\n",
      "Epoch 17/40\n",
      "15000/15000 [==============================] - 0s 31us/sample - loss: 0.2624 - accuracy: 0.9091 - val_loss: 0.3191 - val_accuracy: 0.8745\n",
      "Epoch 18/40\n",
      "15000/15000 [==============================] - 0s 31us/sample - loss: 0.2483 - accuracy: 0.9143 - val_loss: 0.3113 - val_accuracy: 0.8781\n",
      "Epoch 19/40\n",
      "15000/15000 [==============================] - 0s 31us/sample - loss: 0.2358 - accuracy: 0.9181 - val_loss: 0.3052 - val_accuracy: 0.8792\n",
      "Epoch 20/40\n",
      "15000/15000 [==============================] - 0s 31us/sample - loss: 0.2246 - accuracy: 0.9217 - val_loss: 0.3009 - val_accuracy: 0.8811\n",
      "Epoch 21/40\n",
      "15000/15000 [==============================] - 0s 31us/sample - loss: 0.2135 - accuracy: 0.9264 - val_loss: 0.2973 - val_accuracy: 0.8801\n",
      "Epoch 22/40\n",
      "15000/15000 [==============================] - 0s 31us/sample - loss: 0.2041 - accuracy: 0.9292 - val_loss: 0.2936 - val_accuracy: 0.8837\n",
      "Epoch 23/40\n",
      "15000/15000 [==============================] - 0s 32us/sample - loss: 0.1948 - accuracy: 0.9325 - val_loss: 0.2920 - val_accuracy: 0.8825\n",
      "Epoch 24/40\n",
      "15000/15000 [==============================] - 0s 33us/sample - loss: 0.1867 - accuracy: 0.9369 - val_loss: 0.2900 - val_accuracy: 0.8838\n",
      "Epoch 25/40\n",
      "15000/15000 [==============================] - 0s 32us/sample - loss: 0.1785 - accuracy: 0.9409 - val_loss: 0.2879 - val_accuracy: 0.8845\n",
      "Epoch 26/40\n",
      "15000/15000 [==============================] - 0s 33us/sample - loss: 0.1713 - accuracy: 0.9434 - val_loss: 0.2881 - val_accuracy: 0.8836\n",
      "Epoch 27/40\n",
      "15000/15000 [==============================] - 0s 32us/sample - loss: 0.1644 - accuracy: 0.9466 - val_loss: 0.2871 - val_accuracy: 0.8840\n",
      "Epoch 28/40\n",
      "15000/15000 [==============================] - 0s 31us/sample - loss: 0.1578 - accuracy: 0.9499 - val_loss: 0.2873 - val_accuracy: 0.8859\n",
      "Epoch 29/40\n",
      "15000/15000 [==============================] - 0s 31us/sample - loss: 0.1521 - accuracy: 0.9527 - val_loss: 0.2883 - val_accuracy: 0.8834\n",
      "Epoch 30/40\n",
      "15000/15000 [==============================] - 0s 31us/sample - loss: 0.1461 - accuracy: 0.9544 - val_loss: 0.2875 - val_accuracy: 0.8855\n",
      "Epoch 31/40\n",
      "15000/15000 [==============================] - 0s 32us/sample - loss: 0.1400 - accuracy: 0.9580 - val_loss: 0.2882 - val_accuracy: 0.8867\n",
      "Epoch 32/40\n",
      "15000/15000 [==============================] - 0s 32us/sample - loss: 0.1346 - accuracy: 0.9596 - val_loss: 0.2894 - val_accuracy: 0.8859\n",
      "Epoch 33/40\n",
      "15000/15000 [==============================] - 0s 33us/sample - loss: 0.1293 - accuracy: 0.9611 - val_loss: 0.2914 - val_accuracy: 0.8866\n",
      "Epoch 34/40\n",
      "15000/15000 [==============================] - 0s 31us/sample - loss: 0.1246 - accuracy: 0.9635 - val_loss: 0.2931 - val_accuracy: 0.8856\n",
      "Epoch 35/40\n",
      "15000/15000 [==============================] - 0s 31us/sample - loss: 0.1204 - accuracy: 0.9638 - val_loss: 0.2950 - val_accuracy: 0.8870\n",
      "Epoch 36/40\n",
      "15000/15000 [==============================] - 0s 31us/sample - loss: 0.1156 - accuracy: 0.9669 - val_loss: 0.2968 - val_accuracy: 0.8862\n",
      "Epoch 37/40\n",
      "15000/15000 [==============================] - 0s 31us/sample - loss: 0.1111 - accuracy: 0.9683 - val_loss: 0.2993 - val_accuracy: 0.8857\n",
      "Epoch 38/40\n",
      "15000/15000 [==============================] - 0s 31us/sample - loss: 0.1070 - accuracy: 0.9701 - val_loss: 0.3026 - val_accuracy: 0.8839\n",
      "Epoch 39/40\n",
      "15000/15000 [==============================] - 0s 31us/sample - loss: 0.1037 - accuracy: 0.9707 - val_loss: 0.3056 - val_accuracy: 0.8835\n",
      "Epoch 40/40\n",
      "15000/15000 [==============================] - 0s 32us/sample - loss: 0.0995 - accuracy: 0.9733 - val_loss: 0.3081 - val_accuracy: 0.8843\n"
     ]
    }
   ],
   "source": [
    "history = model.fit(partial_x_train,\n",
    "                   partial_y_train,\n",
    "                   epochs=40,\n",
    "                   batch_size=512,\n",
    "                   validation_data=(x_val, y_val),\n",
    "                   verbose=1)"
   ]
  },
  {
   "cell_type": "code",
   "execution_count": 18,
   "metadata": {},
   "outputs": [
    {
     "name": "stdout",
     "output_type": "stream",
     "text": [
      "25000/25000 [==============================] - 0s 15us/sample - loss: 0.3280 - accuracy: 0.8721\n",
      "[0.32803749178886416, 0.87208]\n"
     ]
    }
   ],
   "source": [
    "results = model.evaluate(test_data, test_labels)\n",
    "print(results)"
   ]
  },
  {
   "cell_type": "code",
   "execution_count": 19,
   "metadata": {},
   "outputs": [
    {
     "data": {
      "text/plain": [
       "dict_keys(['loss', 'accuracy', 'val_loss', 'val_accuracy'])"
      ]
     },
     "execution_count": 19,
     "metadata": {},
     "output_type": "execute_result"
    }
   ],
   "source": [
    "history_dict = history.history\n",
    "history_dict.keys()"
   ]
  },
  {
   "cell_type": "code",
   "execution_count": 21,
   "metadata": {},
   "outputs": [
    {
     "data": {
      "image/png": "[encoded data removed]",
      "text/plain": [
       "<Figure size 432x288 with 1 Axes>"
      ]
     },
     "metadata": {
      "needs_background": "light"
     },
     "output_type": "display_data"
    }
   ],
   "source": [
    "import matplotlib.pyplot as plt\n",
    "%matplotlib inline\n",
    "acc = history_dict['accuracy']\n",
    "val_acc = history_dict['val_accuracy']\n",
    "loss = history_dict['loss']\n",
    "val_loss = history_dict['val_loss']\n",
    "\n",
    "epochs = range(1, len(acc) + 1)\n",
    "\n",
    "# \"bo\" is for the blue dot\n",
    "plt.plot(epochs, loss, 'bo', label='Training loss')\n",
    "# b is for \"Solid blue line\"\n",
    "plt.plot(epochs, val_loss, 'b', label='Validation loss')\n",
    "plt.title('Traning and Validation loss')\n",
    "plt.xlabel('Epochs')\n",
    "plt.ylabel('Loss')\n",
    "\n",
    "plt.show()"
   ]
  },
  {
   "cell_type": "code",
   "execution_count": 23,
   "metadata": {},
   "outputs": [
    {
     "data": {
      "image/png": "[encoded data removed]",
      "text/plain": [
       "<Figure size 432x288 with 1 Axes>"
      ]
     },
     "metadata": {
      "needs_background": "light"
     },
     "output_type": "display_data"
    }
   ],
   "source": [
    "plt.clf()\n",
    "# \"bo\" is for the blue dot\n",
    "plt.plot(epochs, acc, 'bo', label='Training acc')\n",
    "# b is for \"Solid blue line\"\n",
    "plt.plot(epochs, val_acc, 'b', label='Validation acc')\n",
    "plt.title('Traning and Validation accuracy')\n",
    "plt.xlabel('Epochs')\n",
    "plt.ylabel('Accuracy')\n",
    "plt.legend()\n",
    "\n",
    "plt.show()"
   ]
  },
  {
   "cell_type": "code",
   "execution_count": null,
   "metadata": {},
   "outputs": [],
   "source": []
  }
 ],
 "metadata": {
  "kernelspec": {
   "display_name": "Python 3",
   "language": "python",
   "name": "python3"
  },
  "language_info": {
   "codemirror_mode": {
    "name": "ipython",
    "version": 3
   },
   "file_extension": ".py",
   "mimetype": "text/x-python",
   "name": "python",
   "nbconvert_exporter": "python",
   "pygments_lexer": "ipython3",
   "version": "3.6.8"
  }
 },
 "nbformat": 4,
 "nbformat_minor": 2
}
